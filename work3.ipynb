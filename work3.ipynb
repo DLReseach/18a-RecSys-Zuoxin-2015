{
 "cells": [
  {
   "cell_type": "code",
   "execution_count": 1,
   "metadata": {},
   "outputs": [],
   "source": [
    "import random\n",
    "import math\n",
    "import numpy as np"
   ]
  },
  {
   "cell_type": "code",
   "execution_count": 2,
   "metadata": {},
   "outputs": [],
   "source": [
    "def load_movielens(path='./movielens/ml-100k'):\n",
    "    # get movie titles\n",
    "    movies = {}\n",
    "    for line in open(path + '/u.item', encoding='latin-1'):\n",
    "        id, title = line.split('|')[0:2]\n",
    "        movies[id] = title\n",
    "    # load data\n",
    "    train = {}\n",
    "    for line in open(path + '/ua.base', encoding='latin-1'):\n",
    "        user, movieid, rating, ts = line.split('\\t')\n",
    "        train.setdefault(user, {})\n",
    "        train[user][movieid] = float(rating)\n",
    "    test = {}\n",
    "    for line in open(path + '/ua.test', encoding='latin-1'):\n",
    "        user, movieid, rating, ts = line.split('\\t')\n",
    "        test.setdefault(user, {})\n",
    "        test[user][movieid] = float(rating)\n",
    "    return train, test, movies"
   ]
  },
  {
   "cell_type": "code",
   "execution_count": 3,
   "metadata": {},
   "outputs": [],
   "source": [
    "train, test, movies = load_movielens()"
   ]
  },
  {
   "cell_type": "code",
   "execution_count": 4,
   "metadata": {},
   "outputs": [],
   "source": [
    "def gen_list(data, user_len=943, movie_len=1682):\n",
    "    mat_data = np.zeros((user_len, movie_len), dtype=float)\n",
    "    for u, item in data.items():\n",
    "        for n, r in item.items():\n",
    "            mat_data[int(u)-1][int(n)-1] = float(int(r))\n",
    "    return mat_data"
   ]
  },
  {
   "cell_type": "code",
   "execution_count": 5,
   "metadata": {},
   "outputs": [],
   "source": [
    "def sgd(data_matrix, k, alpha, lam, max_cycles):\n",
    "    \"\"\"使用梯度下降法进行矩阵分解。\n",
    "\n",
    "    Args:\n",
    "    - data_matrix: mat, 用户物品矩阵\n",
    "    - k: int, 分解矩阵的参数\n",
    "    - alpha: float, 学习率\n",
    "    - lam: float, 正则化参数\n",
    "    - max_cycles: int, 最大迭代次数\n",
    "\n",
    "    Returns:\n",
    "    p,q: mat, 分解后的矩阵\n",
    "    \"\"\"\n",
    "    m, n = np.shape(data_matrix)\n",
    "    # initiate p & q\n",
    "    p = np.mat(np.random.random((m, k)))\n",
    "    q = np.mat(np.random.random((k, n)))\n",
    "\n",
    "    # start training\n",
    "    for step in range(max_cycles):\n",
    "        for i in range(m):\n",
    "            for j in range(n):\n",
    "                if data_matrix[i, j] > 0:\n",
    "                    error = data_matrix[i, j]\n",
    "                    for r in range(k):\n",
    "                        error = error - p[i, r] * q[r, j]\n",
    "                    for r in range(k):\n",
    "                        p[i, r] = p[i, r] + alpha * (2 * error * q[r, j] - lam * p[i, r])\n",
    "                        q[r, j] = q[r, j] + alpha * (2 * error * p[i, r] - lam * q[r, j])\n",
    "\n",
    "        loss = 0.0\n",
    "        for i in range(m):\n",
    "            for j in range(n):\n",
    "                if data_matrix[i, j] > 0:\n",
    "                    error = 0.0\n",
    "                    for r in range(k):\n",
    "                        error = error + p[i, r] * q[r, j]\n",
    "                    # calculate loss function\n",
    "                    loss = (data_matrix[i, j] - error) * (data_matrix[i, j] - error)\n",
    "                    for r in range(k):\n",
    "                        loss = loss + lam * (p[i, r] * p[i, r] + q[r, j] * q[r, j]) / 2\n",
    "\n",
    "        if loss < 0.001:\n",
    "            break\n",
    "        if step % 1 == 0:\n",
    "            print(\"\\titer: %d, loss: %f\" % (step, loss))\n",
    "    return p, q"
   ]
  },
  {
   "cell_type": "code",
   "execution_count": 6,
   "metadata": {},
   "outputs": [],
   "source": [
    "mat_data = gen_list(train)"
   ]
  },
  {
   "cell_type": "code",
   "execution_count": 7,
   "metadata": {
    "scrolled": false
   },
   "outputs": [
    {
     "name": "stdout",
     "output_type": "stream",
     "text": [
      "\titer: 0, loss: 2.090724\n",
      "\titer: 1, loss: 1.585506\n",
      "\titer: 2, loss: 1.380150\n",
      "\titer: 3, loss: 1.273629\n",
      "\titer: 4, loss: 1.204522\n",
      "\titer: 5, loss: 1.150355\n",
      "\titer: 6, loss: 1.102485\n",
      "\titer: 7, loss: 1.057564\n",
      "\titer: 8, loss: 1.014323\n",
      "\titer: 9, loss: 0.972313\n",
      "\titer: 10, loss: 0.931405\n",
      "\titer: 11, loss: 0.891587\n",
      "\titer: 12, loss: 0.852888\n",
      "\titer: 13, loss: 0.815340\n",
      "\titer: 14, loss: 0.778971\n",
      "\titer: 15, loss: 0.743803\n",
      "\titer: 16, loss: 0.709847\n",
      "\titer: 17, loss: 0.677106\n",
      "\titer: 18, loss: 0.645578\n",
      "\titer: 19, loss: 0.615254\n",
      "\titer: 20, loss: 0.586122\n",
      "\titer: 21, loss: 0.558165\n",
      "\titer: 22, loss: 0.531364\n",
      "\titer: 23, loss: 0.505698\n",
      "\titer: 24, loss: 0.481145\n",
      "\titer: 25, loss: 0.457679\n",
      "\titer: 26, loss: 0.435276\n",
      "\titer: 27, loss: 0.413911\n",
      "\titer: 28, loss: 0.393555\n",
      "\titer: 29, loss: 0.374184\n",
      "\titer: 30, loss: 0.355769\n",
      "\titer: 31, loss: 0.338284\n",
      "\titer: 32, loss: 0.321700\n",
      "\titer: 33, loss: 0.305991\n",
      "\titer: 34, loss: 0.291129\n",
      "\titer: 35, loss: 0.277087\n",
      "\titer: 36, loss: 0.263838\n",
      "\titer: 37, loss: 0.251353\n",
      "\titer: 38, loss: 0.239605\n",
      "\titer: 39, loss: 0.228567\n",
      "\titer: 40, loss: 0.218213\n",
      "\titer: 41, loss: 0.208514\n",
      "\titer: 42, loss: 0.199444\n",
      "\titer: 43, loss: 0.190976\n",
      "\titer: 44, loss: 0.183083\n",
      "\titer: 45, loss: 0.175739\n",
      "\titer: 46, loss: 0.168917\n",
      "\titer: 47, loss: 0.162592\n",
      "\titer: 48, loss: 0.156737\n",
      "\titer: 49, loss: 0.151328\n"
     ]
    }
   ],
   "source": [
    "p, q = sgd(mat_data, 5, 0.001, 0.01, 50)"
   ]
  },
  {
   "cell_type": "code",
   "execution_count": 25,
   "metadata": {},
   "outputs": [],
   "source": [
    "def prediction(data_matrix, p, q, user):\n",
    "    \"\"\"为用户未互动的项打分\n",
    "\n",
    "    Args:\n",
    "    - data_matrix: mat, 原始用户物品矩阵\n",
    "    - p: mat, 分解后的矩阵p\n",
    "    - q: mat, 分解后的矩阵q\n",
    "    - user: int, 用户的id\n",
    "\n",
    "    Returns:\n",
    "    - predict: list, 推荐列表\n",
    "    \"\"\"\n",
    "    n = np.shape(data_matrix)[1]\n",
    "    predict = {}\n",
    "    for j in range(n):\n",
    "        if data_matrix[int(user)-1, j] == 0:\n",
    "            predict[j] = (p[int(user)-1,] * q[:, j])[0, 0]\n",
    "\n",
    "    # 按照打分从大到小排序\n",
    "    return sorted(predict.items(), key=lambda d: d[1], reverse=True)"
   ]
  },
  {
   "cell_type": "code",
   "execution_count": 26,
   "metadata": {},
   "outputs": [],
   "source": [
    "rank = prediction(mat_data, p, q, 1)"
   ]
  },
  {
   "cell_type": "code",
   "execution_count": 27,
   "metadata": {},
   "outputs": [],
   "source": [
    " def top_k(rank, k):\n",
    "    if len(rank) <= k:\n",
    "        return rank\n",
    "    else:\n",
    "        return rank[:k]"
   ]
  },
  {
   "cell_type": "code",
   "execution_count": 28,
   "metadata": {},
   "outputs": [
    {
     "name": "stdout",
     "output_type": "stream",
     "text": [
      "[(407, 5.0064800876901199), (356, 4.9315707855947544), (1448, 4.8885353582938498), (482, 4.8464312426977543), (284, 4.8212895109837737)]\n"
     ]
    }
   ],
   "source": [
    "print(top_k(rank, 5))"
   ]
  },
  {
   "cell_type": "code",
   "execution_count": 29,
   "metadata": {},
   "outputs": [],
   "source": [
    "def recall(train, test, N, p, q):\n",
    "    hit = 0\n",
    "    all = 0\n",
    "    mat_train = gen_list(train)\n",
    "    for user in train.keys():\n",
    "        tu = test[user]\n",
    "        rank = top_k(prediction(mat_data, p, q, user), N)\n",
    "        for item, pui in rank:\n",
    "            if str(item+1) in tu:\n",
    "                hit += 1\n",
    "        all += len(tu)\n",
    "    return hit / (all * 1.0)"
   ]
  },
  {
   "cell_type": "code",
   "execution_count": 30,
   "metadata": {},
   "outputs": [
    {
     "name": "stdout",
     "output_type": "stream",
     "text": [
      "top5的召回率为： 0.012195121951219513\n"
     ]
    }
   ],
   "source": [
    "print(\"top5的召回率为：\", recall(train, test, 5, p, q))"
   ]
  },
  {
   "cell_type": "code",
   "execution_count": 35,
   "metadata": {},
   "outputs": [],
   "source": [
    "def precision(train, test, N, p, q):\n",
    "    hit = 0\n",
    "    all = 0\n",
    "    mat_train = gen_list(train)\n",
    "    for user in train.keys():\n",
    "        tu = test[user]\n",
    "        rank = top_k(prediction(mat_data, p, q, user), N)\n",
    "        for item, pui in rank:\n",
    "            if str(item+1) in tu:\n",
    "                hit += 1\n",
    "        all += N\n",
    "    return hit / (all * 1.0)"
   ]
  },
  {
   "cell_type": "code",
   "execution_count": 36,
   "metadata": {},
   "outputs": [
    {
     "name": "stdout",
     "output_type": "stream",
     "text": [
      "top5的准确率为： 0.024390243902439025\n"
     ]
    }
   ],
   "source": [
    "print(\"top5的准确率为：\",precision(train, test, 5, p, q))"
   ]
  },
  {
   "cell_type": "code",
   "execution_count": 41,
   "metadata": {},
   "outputs": [],
   "source": [
    "def coverage(train, test, N, p, q):\n",
    "    recommend_items = set()\n",
    "    all_items = set()\n",
    "    mat_train = gen_list(train)\n",
    "    for user in train.keys():\n",
    "        for item in train[user].keys():\n",
    "            all_items.add(item)\n",
    "        rank = top_k(prediction(mat_data, p, q, user), N)\n",
    "        for item, pui in rank:\n",
    "            recommend_items.add(item)\n",
    "    return len(recommend_items) / (len(all_items) * 1.0)"
   ]
  },
  {
   "cell_type": "code",
   "execution_count": 42,
   "metadata": {},
   "outputs": [
    {
     "name": "stdout",
     "output_type": "stream",
     "text": [
      "top5的覆盖率为： 0.055952380952380955\n"
     ]
    }
   ],
   "source": [
    "print(\"top5的覆盖率为：\", coverage(train, test, 5, p, q))"
   ]
  },
  {
   "cell_type": "code",
   "execution_count": 43,
   "metadata": {},
   "outputs": [],
   "source": [
    "def popularity(train, test, N, p, q):\n",
    "    item_popularity = dict()\n",
    "    mat_train = gen_list(train)\n",
    "    for user, items in train.items():\n",
    "        for item in items.keys():\n",
    "            item_popularity[item] = item_popularity.get(item, 0) + 1\n",
    "    ret = 0\n",
    "    n = 0\n",
    "    for user in train.keys():\n",
    "        rank = top_k(prediction(mat_data, p, q, user), N)\n",
    "        for item, pui in rank:\n",
    "            ret += math.log(1 + 1/item_popularity[str(item + 1)])\n",
    "            n += 1\n",
    "    ret /= n * 1.0\n",
    "    return ret"
   ]
  },
  {
   "cell_type": "code",
   "execution_count": 44,
   "metadata": {},
   "outputs": [
    {
     "name": "stdout",
     "output_type": "stream",
     "text": [
      "top5的新颖度为： 0.033497275576051755\n"
     ]
    }
   ],
   "source": [
    "print('top5的新颖度为：', popularity(train, test, 5, p, q))"
   ]
  },
  {
   "cell_type": "code",
   "execution_count": null,
   "metadata": {},
   "outputs": [],
   "source": []
  }
 ],
 "metadata": {
  "kernelspec": {
   "display_name": "Python 3",
   "language": "python",
   "name": "python3"
  },
  "language_info": {
   "codemirror_mode": {
    "name": "ipython",
    "version": 3
   },
   "file_extension": ".py",
   "mimetype": "text/x-python",
   "name": "python",
   "nbconvert_exporter": "python",
   "pygments_lexer": "ipython3",
   "version": "3.6.3"
  }
 },
 "nbformat": 4,
 "nbformat_minor": 2
}
