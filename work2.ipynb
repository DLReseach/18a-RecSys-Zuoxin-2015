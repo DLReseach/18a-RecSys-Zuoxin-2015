{
 "cells": [
  {
   "cell_type": "code",
   "execution_count": 9,
   "metadata": {},
   "outputs": [],
   "source": [
    "import random\n",
    "import math\n",
    "import numpy as np"
   ]
  },
  {
   "cell_type": "code",
   "execution_count": 10,
   "metadata": {},
   "outputs": [],
   "source": [
    "def load_movielens(path='./movielens/ml-100k'):\n",
    "    # get movie titles\n",
    "    movies = {}\n",
    "    for line in open(path + '/u.item', encoding='latin-1'):\n",
    "        id, title = line.split('|')[0:2]\n",
    "        movies[id] = title\n",
    "    # load data\n",
    "    train = {}\n",
    "    for line in open(path + '/ua.base', encoding='latin-1'):\n",
    "        user, movieid, rating, ts = line.split('\\t')\n",
    "        train.setdefault(user, {})\n",
    "        train[user][movieid] = float(rating)\n",
    "    test = {}\n",
    "    for line in open(path + '/ua.test', encoding='latin-1'):\n",
    "        user, movieid, rating, ts = line.split('\\t')\n",
    "        test.setdefault(user, {})\n",
    "        test[user][movieid] = float(rating)\n",
    "    return train, test, movies"
   ]
  },
  {
   "cell_type": "code",
   "execution_count": 11,
   "metadata": {},
   "outputs": [],
   "source": [
    "train, test, movies = load_movielens()"
   ]
  },
  {
   "cell_type": "code",
   "execution_count": 12,
   "metadata": {},
   "outputs": [],
   "source": [
    "def gen_list(data, user_len=943, movie_len=1682):\n",
    "    mat_data = np.zeros((user_len, movie_len), dtype=float)\n",
    "    for u, item in data.items():\n",
    "        for n, r in item.items():\n",
    "            mat_data[int(u)-1][int(n)-1] = 1.0\n",
    "    return mat_data"
   ]
  },
  {
   "cell_type": "code",
   "execution_count": 16,
   "metadata": {},
   "outputs": [],
   "source": [
    "def gen_normal_list(data, user_len=943, movie_len=1682):\n",
    "    mat_data = np.zeros((user_len, movie_len), dtype=float)\n",
    "    for u, item in data.items():\n",
    "        for n, r in item.items():\n",
    "            mat_data[int(u)-1][int(n)-1] = float(int(r))\n",
    "    return mat_data"
   ]
  },
  {
   "cell_type": "code",
   "execution_count": 13,
   "metadata": {},
   "outputs": [],
   "source": [
    "def item_similarity(train):\n",
    "    mat_data = gen_list(train)\n",
    "    m = mat_data.shape[1]  # 物品的数量\n",
    "    w = np.mat(np.zeros((m, m)))\n",
    "    N = [sum(b) for b in mat_data.T]\n",
    "    \n",
    "    for i in range(m):\n",
    "        for j in range(m):\n",
    "            if not i == j:\n",
    "                common = len([a for a in mat_data[:, i]+mat_data[:, j] if a==2])\n",
    "                if N[i] * N[j] !=0:\n",
    "                    w[i, j] = common / math.sqrt(N[i] * N[j])\n",
    "                else:\n",
    "                    w[i, j] = 0.0\n",
    "                w[j, i] = w[i, j]\n",
    "            else:\n",
    "                w[j, i] = 0.0\n",
    "    return w"
   ]
  },
  {
   "cell_type": "code",
   "execution_count": 14,
   "metadata": {
    "scrolled": true
   },
   "outputs": [],
   "source": [
    "w = item_similarity(train)"
   ]
  },
  {
   "cell_type": "code",
   "execution_count": 64,
   "metadata": {},
   "outputs": [
    {
     "name": "stdout",
     "output_type": "stream",
     "text": [
      "[[ 0.          0.42701903  0.38348249 ...,  0.          0.05050763\n",
      "   0.05050763]\n",
      " [ 0.42701903  0.          0.29581426 ...,  0.          0.09090909\n",
      "   0.09090909]\n",
      " [ 0.38348249  0.29581426  0.         ...,  0.          0.          0.10846523]\n",
      " ..., \n",
      " [ 0.          0.          0.         ...,  0.          0.          0.        ]\n",
      " [ 0.05050763  0.09090909  0.         ...,  0.          0.          0.        ]\n",
      " [ 0.05050763  0.09090909  0.10846523 ...,  0.          0.          0.        ]]\n"
     ]
    }
   ],
   "source": [
    "print(w)"
   ]
  },
  {
   "cell_type": "code",
   "execution_count": 18,
   "metadata": {},
   "outputs": [],
   "source": [
    "def item_based_recommend(data, w, user):\n",
    "    \"\"\"\n",
    "    基于物品相似度为用户 user 推荐物品\n",
    "\n",
    "    Args:\n",
    "    - data: mat, 用户物品矩阵\n",
    "    - w: mat, 物品与物品之间的相似性\n",
    "    - user: int, 用户编号\n",
    "\n",
    "    :return: predict, list, 推荐列表\n",
    "    \"\"\"\n",
    "    data = gen_normal_list(train)\n",
    "    m, n = np.shape(data)  # m:用户数量  n: 物品数量\n",
    "    interaction = data[int(user)-1]  # 用户 user 互动物品信息\n",
    "\n",
    "    # 找到用户 user 没有互动的商品\n",
    "    not_iter = []\n",
    "    for i in range(n):\n",
    "        if interaction[i] == 0:  # 用户 user 未打分项\n",
    "            not_iter.append(i)\n",
    "\n",
    "    # 对没有互动过的物品进行预测\n",
    "    predict = {}\n",
    "    for x in not_iter:\n",
    "        item = np.copy(interaction)  # 获取用户 user 对物品的互动信息\n",
    "        for j in range(n):   # 对每一个物品\n",
    "            if item[j] != 0:  # 利用互动过的物品预测\n",
    "                if x not in predict:\n",
    "                    predict[x] = w[x, j] * item[j]\n",
    "                else:\n",
    "                    predict[x] = predict[x] + w[x, j] * item[j]\n",
    "    # 按照预测的大小从大到小排序\n",
    "    return sorted(predict.items(), key=lambda d: d[1], reverse=True)"
   ]
  },
  {
   "cell_type": "code",
   "execution_count": 20,
   "metadata": {},
   "outputs": [],
   "source": [
    "rank = item_based_recommend(train, w, '1')"
   ]
  },
  {
   "cell_type": "code",
   "execution_count": 21,
   "metadata": {},
   "outputs": [],
   "source": [
    "def top_k(rank, k):\n",
    "    if len(rank) <= k:\n",
    "        return rank\n",
    "    else:\n",
    "        return rank[:k]"
   ]
  },
  {
   "cell_type": "code",
   "execution_count": 22,
   "metadata": {},
   "outputs": [
    {
     "name": "stdout",
     "output_type": "stream",
     "text": [
      "[(422, 394.78212757305721), (201, 383.20902154597155), (384, 374.34554439290599), (654, 373.17988883230458), (402, 373.07009197032096)]\n"
     ]
    }
   ],
   "source": [
    "print(top_k(rank, 5))"
   ]
  },
  {
   "cell_type": "code",
   "execution_count": 28,
   "metadata": {},
   "outputs": [],
   "source": [
    "def recall(train, test, N, w):\n",
    "    hit = 0\n",
    "    all = 0\n",
    "    mat_train = gen_normal_list(train)\n",
    "    for user in train.keys():\n",
    "        tu = test[user]\n",
    "        rank = top_k(item_based_recommend(mat_train, w, user), N)\n",
    "        for item, pui in rank:\n",
    "            if str(item+1) in tu:\n",
    "                hit += 1\n",
    "        all += len(tu)\n",
    "    return hit / (all * 1.0)"
   ]
  },
  {
   "cell_type": "code",
   "execution_count": 29,
   "metadata": {},
   "outputs": [
    {
     "name": "stdout",
     "output_type": "stream",
     "text": [
      "top5的召回率为： 0.13170731707317074\n"
     ]
    }
   ],
   "source": [
    "print(\"top5的召回率为：\", recall(train, test, 5, w))"
   ]
  },
  {
   "cell_type": "code",
   "execution_count": 32,
   "metadata": {},
   "outputs": [],
   "source": [
    "def precision(train, test, N, w):\n",
    "    hit = 0\n",
    "    all = 0\n",
    "    mat_train = gen_normal_list(train)\n",
    "    for user in train.keys():\n",
    "        tu = test[user]\n",
    "        rank = top_k(item_based_recommend(mat_train, w, user), N)\n",
    "        for item, pui in rank:\n",
    "            if str(item+1) in tu:\n",
    "                hit += 1\n",
    "        all += N\n",
    "    return hit / (all * 1.0)"
   ]
  },
  {
   "cell_type": "code",
   "execution_count": 33,
   "metadata": {},
   "outputs": [
    {
     "name": "stdout",
     "output_type": "stream",
     "text": [
      "top5的准确率为： 0.2634146341463415\n"
     ]
    }
   ],
   "source": [
    "print(\"top5的准确率为：\",precision(train, test, 5, w))"
   ]
  },
  {
   "cell_type": "code",
   "execution_count": 34,
   "metadata": {},
   "outputs": [],
   "source": [
    "def coverage(train, test, N, w):\n",
    "    recommend_items = set()\n",
    "    all_items = set()\n",
    "    mat_train = gen_normal_list(train)\n",
    "    for user in train.keys():\n",
    "        for item in train[user].keys():\n",
    "            all_items.add(item)\n",
    "        rank = top_k(item_based_recommend(mat_train, w, user), N)\n",
    "        for item, pui in rank:\n",
    "            recommend_items.add(item)\n",
    "    return len(recommend_items) / (len(all_items) * 1.0)"
   ]
  },
  {
   "cell_type": "code",
   "execution_count": 35,
   "metadata": {},
   "outputs": [
    {
     "name": "stdout",
     "output_type": "stream",
     "text": [
      "top5的覆盖率为： 0.0994047619047619\n"
     ]
    }
   ],
   "source": [
    "print(\"top5的覆盖率为：\", coverage(train, test, 5, w))"
   ]
  },
  {
   "cell_type": "code",
   "execution_count": 36,
   "metadata": {},
   "outputs": [],
   "source": [
    "def popularity(train, test, N, w):\n",
    "    item_popularity = dict()\n",
    "    mat_train = gen_normal_list(train)\n",
    "    for user, items in train.items():\n",
    "        for item in items.keys():\n",
    "            item_popularity[item] = item_popularity.get(item, 0) + 1\n",
    "    ret = 0\n",
    "    n = 0\n",
    "    for user in train.keys():\n",
    "        rank = top_k(item_based_recommend(mat_train, w, user), N)\n",
    "        for item, pui in rank:\n",
    "            ret += math.log(1 + 1/item_popularity[str(item + 1)])\n",
    "            n += 1\n",
    "    ret /= n * 1.0\n",
    "    return ret"
   ]
  },
  {
   "cell_type": "code",
   "execution_count": 37,
   "metadata": {},
   "outputs": [
    {
     "name": "stdout",
     "output_type": "stream",
     "text": [
      "top5的新颖度为： 0.0035223833873731358\n"
     ]
    }
   ],
   "source": [
    "print('top5的新颖度为：', popularity(train, test, 5, w))"
   ]
  },
  {
   "cell_type": "code",
   "execution_count": null,
   "metadata": {},
   "outputs": [],
   "source": []
  }
 ],
 "metadata": {
  "kernelspec": {
   "display_name": "Python 3",
   "language": "python",
   "name": "python3"
  },
  "language_info": {
   "codemirror_mode": {
    "name": "ipython",
    "version": 3
   },
   "file_extension": ".py",
   "mimetype": "text/x-python",
   "name": "python",
   "nbconvert_exporter": "python",
   "pygments_lexer": "ipython3",
   "version": "3.6.3"
  }
 },
 "nbformat": 4,
 "nbformat_minor": 2
}
