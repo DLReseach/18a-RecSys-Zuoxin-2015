{
 "cells": [
  {
   "cell_type": "code",
   "execution_count": 2,
   "metadata": {},
   "outputs": [],
   "source": [
    "import random\n",
    "import math\n",
    "import numpy as np"
   ]
  },
  {
   "cell_type": "code",
   "execution_count": 3,
   "metadata": {},
   "outputs": [],
   "source": [
    "def load_movielens(path='./movielens/ml-100k'):\n",
    "    # get movie titles\n",
    "    movies = {}\n",
    "    for line in open(path + '/u.item', encoding='latin-1'):\n",
    "        id, title = line.split('|')[0:2]\n",
    "        movies[id] = title\n",
    "    # load data\n",
    "    train = {}\n",
    "    for line in open(path + '/ua.base', encoding='latin-1'):\n",
    "        user, movieid, rating, ts = line.split('\\t')\n",
    "        train.setdefault(user, {})\n",
    "        train[user][movieid] = float(rating)\n",
    "    test = {}\n",
    "    for line in open(path + '/ua.test', encoding='latin-1'):\n",
    "        user, movieid, rating, ts = line.split('\\t')\n",
    "        test.setdefault(user, {})\n",
    "        test[user][movieid] = float(rating)\n",
    "    return train, test, movies"
   ]
  },
  {
   "cell_type": "code",
   "execution_count": 4,
   "metadata": {},
   "outputs": [],
   "source": [
    "train, test, movies = load_movielens()"
   ]
  },
  {
   "cell_type": "code",
   "execution_count": 5,
   "metadata": {},
   "outputs": [],
   "source": [
    "def cal_count(data):\n",
    "    count_user = len(data)\n",
    "    tmp = [list(d.keys()) for d in data.values()]\n",
    "    count_movie = len(set(sum(tmp, [])))\n",
    "    return count_user, count_movie"
   ]
  },
  {
   "cell_type": "code",
   "execution_count": 6,
   "metadata": {},
   "outputs": [],
   "source": [
    "def gen_list(data, user_len=943, movie_len=1682):\n",
    "    mat_data = np.zeros((user_len, movie_len), dtype=float)\n",
    "    for u, item in data.items():\n",
    "        for n, r in item.items():\n",
    "            mat_data[int(u)-1][int(n)-1] = float(int(r))\n",
    "    return mat_data"
   ]
  },
  {
   "cell_type": "code",
   "execution_count": 7,
   "metadata": {},
   "outputs": [],
   "source": [
    "def cos_sim(x, y):\n",
    "    \"\"\"余弦相似性\n",
    "\n",
    "    Args:\n",
    "    - x: mat, 以行向量的形式存储\n",
    "    - y: mat, 以行向量的形式存储\n",
    "\n",
    "    :return: x 和 y 之间的余弦相似度\n",
    "    \"\"\"\n",
    "    # print(x.shape, y.T.shape)\n",
    "    numerator = np.matmul(x, y.T)  # x 和 y 之间的内积\n",
    "    denominator = np.sqrt(np.matmul(x, x.T)) * np.sqrt(np.matmul(y, y.T))\n",
    "    return (numerator / denominator)\n",
    "\n",
    "def similarity(data):\n",
    "    \"\"\"计算矩阵中任意两行之间的相似度\n",
    "    Args:\n",
    "    - data: mat, 任意矩阵\n",
    "\n",
    "    :return: w, mat, 任意两行之间的相似度\n",
    "    \"\"\"\n",
    "\n",
    "    m = np.shape(data)[0]  # 用户的数量\n",
    "    # 初始化相似矩阵\n",
    "    w = np.mat(np.zeros((m, m)))\n",
    "\n",
    "    for i in range(m):\n",
    "        for j in range(i, m):\n",
    "            if not j == i:\n",
    "                # 计算任意两行之间的相似度\n",
    "                w[i, j] = cos_sim(data[i], data[j])\n",
    "                w[j, i] = w[i, j]\n",
    "            else:\n",
    "                w[i, j] = 0\n",
    "    return w"
   ]
  },
  {
   "cell_type": "code",
   "execution_count": 8,
   "metadata": {},
   "outputs": [],
   "source": [
    "w = similarity(gen_list(train))"
   ]
  },
  {
   "cell_type": "code",
   "execution_count": 9,
   "metadata": {},
   "outputs": [],
   "source": [
    "def user_based_recommend(w, data, user):\n",
    "    m, n = np.shape(data)\n",
    "    interaction = data[int(user)-1]\n",
    "    \n",
    "    not_inter = []\n",
    "    for i in range(n):\n",
    "        if interaction[i] == 0:\n",
    "            not_inter.append(i)\n",
    "            \n",
    "    predict={}\n",
    "    for x in not_inter:\n",
    "        item = np.copy(data[:, x])\n",
    "        predict[x] = np.matmul(w[int(user)-1], item)\n",
    "    \n",
    "    return sorted(predict.items(), key=lambda s:s[1], reverse=True)"
   ]
  },
  {
   "cell_type": "code",
   "execution_count": 10,
   "metadata": {},
   "outputs": [],
   "source": [
    "rank = user_based_recommend(w, gen_list(train), 1)"
   ]
  },
  {
   "cell_type": "code",
   "execution_count": 11,
   "metadata": {},
   "outputs": [],
   "source": [
    "def top_k(rank, k):\n",
    "    if len(rank) <= k:\n",
    "        return rank\n",
    "    else:\n",
    "        return rank[:k]"
   ]
  },
  {
   "cell_type": "code",
   "execution_count": 12,
   "metadata": {},
   "outputs": [
    {
     "name": "stdout",
     "output_type": "stream",
     "text": [
      "[(317, matrix([[ 407.49894862]])), (422, matrix([[ 386.42125607]])), (356, matrix([[ 368.23395573]])), (116, matrix([[ 363.54450284]])), (201, matrix([[ 353.84852558]]))]\n"
     ]
    }
   ],
   "source": [
    "print(top_k(rank, 5))"
   ]
  },
  {
   "cell_type": "code",
   "execution_count": 13,
   "metadata": {},
   "outputs": [],
   "source": [
    "def recall(train, test, N):\n",
    "    hit = 0\n",
    "    all = 0\n",
    "    mat_train = gen_list(train)\n",
    "    w = similarity(mat_train)\n",
    "    for user in train.keys():\n",
    "        tu = test[user]\n",
    "        rank = top_k(user_based_recommend(w, mat_train, user), N)\n",
    "        for item, pui in rank:\n",
    "            if str(item+1) in tu:\n",
    "                hit += 1\n",
    "        all += len(tu)\n",
    "    return hit / (all * 1.0)"
   ]
  },
  {
   "cell_type": "code",
   "execution_count": 14,
   "metadata": {},
   "outputs": [
    {
     "name": "stdout",
     "output_type": "stream",
     "text": [
      "top5的召回率为： 0.11208907741251325\n"
     ]
    }
   ],
   "source": [
    "print(\"top5的召回率为：\", recall(train, test, 5))"
   ]
  },
  {
   "cell_type": "code",
   "execution_count": 15,
   "metadata": {},
   "outputs": [],
   "source": [
    "def precision(train, test, N):\n",
    "    hit = 0\n",
    "    all = 0\n",
    "    mat_train = gen_list(train)\n",
    "    w = similarity(mat_train)\n",
    "    for user in train.keys():\n",
    "        tu = test[user]\n",
    "        rank = top_k(user_based_recommend(w, mat_train, user), N)\n",
    "        for item, pui in rank:\n",
    "            if str(item+1) in tu:\n",
    "                hit += 1\n",
    "        all += N\n",
    "    return hit / (all * 1.0)"
   ]
  },
  {
   "cell_type": "code",
   "execution_count": 16,
   "metadata": {},
   "outputs": [
    {
     "name": "stdout",
     "output_type": "stream",
     "text": [
      "top5的准确率为： 0.2241781548250265\n"
     ]
    }
   ],
   "source": [
    "print(\"top5的准确率为：\",precision(train, test, 5))"
   ]
  },
  {
   "cell_type": "code",
   "execution_count": 17,
   "metadata": {
    "scrolled": false
   },
   "outputs": [],
   "source": [
    "def coverage(train, test, N):\n",
    "    recommend_items = set()\n",
    "    all_items = set()\n",
    "    mat_train = gen_list(train)\n",
    "    w = similarity(mat_train)\n",
    "    for user in train.keys():\n",
    "        for item in train[user].keys():\n",
    "            all_items.add(item)\n",
    "        rank = top_k(user_based_recommend(w, mat_train, user), N)\n",
    "        for item, pui in rank:\n",
    "            recommend_items.add(item)\n",
    "    return len(recommend_items) / (len(all_items) * 1.0)"
   ]
  },
  {
   "cell_type": "code",
   "execution_count": 18,
   "metadata": {},
   "outputs": [
    {
     "name": "stdout",
     "output_type": "stream",
     "text": [
      "top5的覆盖率为： 0.04345238095238095\n"
     ]
    }
   ],
   "source": [
    "print(\"top5的覆盖率为：\", coverage(train, test, 5))"
   ]
  },
  {
   "cell_type": "code",
   "execution_count": 40,
   "metadata": {},
   "outputs": [],
   "source": [
    "def popularity(train, test, N):\n",
    "    item_popularity = dict()\n",
    "    mat_train = gen_list(train)\n",
    "    w = similarity(mat_train)\n",
    "    for user, items in train.items():\n",
    "        for item in items.keys():\n",
    "            item_popularity[item] = item_popularity.get(item, 0) + 1\n",
    "    ret = 0\n",
    "    n = 0\n",
    "    for user in train.keys():\n",
    "        rank = top_k(user_based_recommend(w, mat_train, user), N)\n",
    "        for item, pui in rank:\n",
    "            ret += math.log(1 + 1/item_popularity[str(item + 1)])\n",
    "            n += 1\n",
    "    ret /= n * 1.0\n",
    "    return ret"
   ]
  },
  {
   "cell_type": "code",
   "execution_count": 39,
   "metadata": {},
   "outputs": [
    {
     "name": "stdout",
     "output_type": "stream",
     "text": [
      "top5的新颖度为： 0.0027819905185508557\n"
     ]
    }
   ],
   "source": [
    "print('top5的新颖度为：', popularity(train, test, 5))"
   ]
  },
  {
   "cell_type": "code",
   "execution_count": null,
   "metadata": {},
   "outputs": [],
   "source": []
  }
 ],
 "metadata": {
  "kernelspec": {
   "display_name": "Python 3",
   "language": "python",
   "name": "python3"
  },
  "language_info": {
   "codemirror_mode": {
    "name": "ipython",
    "version": 3
   },
   "file_extension": ".py",
   "mimetype": "text/x-python",
   "name": "python",
   "nbconvert_exporter": "python",
   "pygments_lexer": "ipython3",
   "version": "3.6.3"
  }
 },
 "nbformat": 4,
 "nbformat_minor": 1
}
